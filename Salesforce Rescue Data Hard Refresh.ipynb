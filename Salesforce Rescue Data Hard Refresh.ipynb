{
 "cells": [
  {
   "cell_type": "code",
   "execution_count": null,
   "id": "95ee236a",
   "metadata": {},
   "outputs": [],
   "source": [
    "import functions\n",
    "\n",
    "# org variables\n",
    "uri = 'https://lastmilefood.my.salesforce.com/services/data/v52.0/jobs/'\n",
    "\n",
    "# auth variables\n",
    "username = ''\n",
    "password = ''\n",
    "securityToken = ''\n",
    "\n",
    "# authenticate with API\n",
    "session = functions.loginToSalesforce(username, password, securityToken)"
   ]
  },
  {
   "cell_type": "code",
   "execution_count": null,
   "id": "1357dfb7",
   "metadata": {},
   "outputs": [],
   "source": [
    "### RESET RESCUE DATA IN SALESFORCE\n",
    "# before executing: download rescues report and save it as a file in this folder named \"lastmile_rescues.csv\"\n",
    "# NOTE: this function refreshes Salesforce rescue data to exactly reflect rescues in the admin tool.\n",
    "# Any changes made manually to rescues in Salesforce will be lost.\n",
    "functions.uploadFoodRescuesHARDREFRESH(session, uri)"
   ]
  },
  {
   "cell_type": "code",
   "execution_count": null,
   "id": "b64d9477",
   "metadata": {},
   "outputs": [],
   "source": []
  }
 ],
 "metadata": {
  "kernelspec": {
   "display_name": "Python 3 (ipykernel)",
   "language": "python",
   "name": "python3"
  },
  "language_info": {
   "codemirror_mode": {
    "name": "ipython",
    "version": 3
   },
   "file_extension": ".py",
   "mimetype": "text/x-python",
   "name": "python",
   "nbconvert_exporter": "python",
   "pygments_lexer": "ipython3",
   "version": "3.9.6"
  }
 },
 "nbformat": 4,
 "nbformat_minor": 5
}
