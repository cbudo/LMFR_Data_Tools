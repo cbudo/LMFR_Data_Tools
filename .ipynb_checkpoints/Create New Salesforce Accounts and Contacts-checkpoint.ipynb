{
 "cells": [
  {
   "cell_type": "code",
   "execution_count": null,
   "id": "a1f95d2b",
   "metadata": {},
   "outputs": [],
   "source": [
    "import functions\n",
    "\n",
    "# org variables\n",
    "uri = 'https://lastmilefood.my.salesforce.com/services/data/v52.0/jobs/'\n",
    "\n",
    "# auth variables\n",
    "username = ''\n",
    "password = ''\n",
    "securityToken = ''\n",
    "\n",
    "# authenticate with API\n",
    "session = functions.loginToSalesforce(username, password, securityToken)"
   ]
  },
  {
   "cell_type": "code",
   "execution_count": null,
   "id": "c959c17e",
   "metadata": {},
   "outputs": [],
   "source": [
    "### UPLOAD FOOD DONORS TO SALESFORCE\n",
    "# before executing: download donors report and save it as a file in this folder named \"lastmile_donors.csv\"\n",
    "functions.uploadFoodDonors(session, uri)"
   ]
  },
  {
   "cell_type": "code",
   "execution_count": null,
   "id": "dbd858d2",
   "metadata": {},
   "outputs": [],
   "source": [
    "### UPLOAD NONPROFIT PARTNERS TO SALESFORCE\n",
    "# before executing: download nonprofits report and save it as a file in this folder named \"lastmile_partners.csv\"\n",
    "functions.uploadNonprofitPartners(session, uri)"
   ]
  },
  {
   "cell_type": "code",
   "execution_count": null,
   "id": "8612ffe6",
   "metadata": {},
   "outputs": [],
   "source": [
    "### UPLOAD VOLUNTEERS TO SALESFORCE\n",
    "# before executing: download volunteers report and save it as a file in this folder named \"lastmile_volunteers.csv\"\n",
    "functions.uploadVolunteers(session, uri)"
   ]
  },
  {
   "cell_type": "code",
   "execution_count": null,
   "id": "b34bd952",
   "metadata": {},
   "outputs": [],
   "source": []
  }
 ],
 "metadata": {
  "kernelspec": {
   "display_name": "Python 3 (ipykernel)",
   "language": "python",
   "name": "python3"
  },
  "language_info": {
   "codemirror_mode": {
    "name": "ipython",
    "version": 3
   },
   "file_extension": ".py",
   "mimetype": "text/x-python",
   "name": "python",
   "nbconvert_exporter": "python",
   "pygments_lexer": "ipython3",
   "version": "3.9.6"
  }
 },
 "nbformat": 4,
 "nbformat_minor": 5
}
