{
 "cells": [
  {
   "cell_type": "code",
   "execution_count": null,
   "id": "f7c4b762",
   "metadata": {},
   "outputs": [],
   "source": [
    "import functions\n",
    "\n",
    "# org variables\n",
    "uri = 'https://lastmilefood.my.salesforce.com/services/data/v52.0/jobs/'\n",
    "\n",
    "# auth variables\n",
    "username = ''\n",
    "password = ''\n",
    "securityToken = ''\n",
    "\n",
    "# authenticate with API\n",
    "session = functions.loginToSalesforce(username, password, securityToken)"
   ]
  },
  {
   "cell_type": "code",
   "execution_count": null,
   "id": "86bf3dd4",
   "metadata": {},
   "outputs": [],
   "source": [
    "### UPLOAD NEW ADMIN DATA TO SALESFORCE\n",
    "# before executing, download the following four reports and place them in the same folder as this file:\n",
    "# -- donors report: rename as 'lastmile_donors.csv'\n",
    "# -- nonprofits report: rename as 'lastmile_partners.csv'\n",
    "# -- volunteers report: rename as 'lastmile_volunteers.csv'\n",
    "# -- rescues report: rename as 'lastmile_rescues.csv'\n",
    "functions.uploadDataToSalesforce(session, uri)"
   ]
  },
  {
   "cell_type": "code",
   "execution_count": null,
   "id": "ce76631d",
   "metadata": {},
   "outputs": [],
   "source": []
  }
 ],
 "metadata": {
  "kernelspec": {
   "display_name": "Python 3 (ipykernel)",
   "language": "python",
   "name": "python3"
  },
  "language_info": {
   "codemirror_mode": {
    "name": "ipython",
    "version": 3
   },
   "file_extension": ".py",
   "mimetype": "text/x-python",
   "name": "python",
   "nbconvert_exporter": "python",
   "pygments_lexer": "ipython3",
   "version": "3.9.6"
  }
 },
 "nbformat": 4,
 "nbformat_minor": 5
}
